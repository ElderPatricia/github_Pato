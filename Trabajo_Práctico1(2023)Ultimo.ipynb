{
  "nbformat": 4,
  "nbformat_minor": 0,
  "metadata": {
    "colab": {
      "provenance": []
    },
    "kernelspec": {
      "name": "python3",
      "display_name": "Python 3"
    },
    "language_info": {
      "name": "python"
    }
  },
  "cells": [
    {
      "cell_type": "markdown",
      "source": [
        "TRABAJO PRÁCTICO 1.1\n",
        "Tipos de datos. Asignación\n"
      ],
      "metadata": {
        "id": "YinE9JhHFztT"
      }
    },
    {
      "cell_type": "markdown",
      "source": [
        "Ejercicio 1:\n",
        "Una persona debe pintar una pared que mide 5 metros de largo por 3.5 metros de alto\n",
        "y necesita saber cuántos metros cuadrados representa esa pared para poder comprar\n",
        "la pintura. Asigne un valor numérico real positivo a dos variables que representan el\n",
        "largo y el alto de la pared. Calcule y muestre la información deseada."
      ],
      "metadata": {
        "id": "EWnpOAiRF6o_"
      }
    },
    {
      "cell_type": "code",
      "source": [
        "\"2 variables, alto y largo de la pared\"\n",
        "\"Calcular los metros cuadrados de la pared\"\n",
        "Alto=3.5\n",
        "Largo=5\n",
        "Largo=float(Largo)\n",
        "Mtrs2pared=Alto*Largo\n",
        "print(\"La cantidad de metros cuadrados de la pared es:\" ,Mtrs2pared)"
      ],
      "metadata": {
        "colab": {
          "base_uri": "https://localhost:8080/"
        },
        "id": "KiiGazABzn3L",
        "outputId": "6c446710-7c78-495f-f09a-d37fb93b8914"
      },
      "execution_count": null,
      "outputs": [
        {
          "output_type": "stream",
          "name": "stdout",
          "text": [
            "La cantidad de metros cuadrados de la pared es: 17.5\n"
          ]
        }
      ]
    },
    {
      "cell_type": "markdown",
      "source": [
        "Ejercicio 2:\n",
        "Calcule y muestre la cantidad de minutos que están contenidos en una cantidad S de\n",
        "segundos. Asigne un valor entero positivo a S y resuelva lo solicitado. Por ejemplo,\n",
        "S=65 salida 1 ó S = 180 salida 3"
      ],
      "metadata": {
        "id": "rJHaOXkpGF_B"
      }
    },
    {
      "cell_type": "code",
      "source": [
        "S=int(input(\"Ingrese la cantidad de segundos: \"))\n",
        "cantmin=S//60\n",
        "print(f\"La cantidad de minutos contenidos en\", S, \"es: \",cantmin)"
      ],
      "metadata": {
        "id": "BzLjow4JiLri",
        "colab": {
          "base_uri": "https://localhost:8080/"
        },
        "outputId": "d467cba0-fbd2-4e2c-b91f-637bd10f6f0c"
      },
      "execution_count": null,
      "outputs": [
        {
          "output_type": "stream",
          "name": "stdout",
          "text": [
            "Ingrese la cantidad de segundos: 305\n",
            "La cantidad de minutos contenidos en 305 es:  5\n"
          ]
        }
      ]
    },
    {
      "cell_type": "markdown",
      "source": [
        "Ejercicio 3:\n",
        "Una juguetería tiene mucho éxito en dos de sus productos: payasos y muñecas. Suele\n",
        "hacer venta por correo y la empresa de logística les cobra por peso de cada paquete así\n",
        "que deben calcular el peso de los payasos y muñecas que saldrán en cada paquete a\n",
        "demanda. Cada payaso pesa 112 g y cada muñeca 75 g. Por cada kilo (o fracción de\n",
        "kilo) de paquete la empresa les cobra $1000 para enviarlo. Escribir un programa que\n",
        "lea el número de payasos y muñecas vendidos en el último pedido, calcule y muestre\n",
        "el peso total del paquete que será enviado y costo del envío."
      ],
      "metadata": {
        "id": "HmiF9G10GPIZ"
      }
    },
    {
      "cell_type": "code",
      "source": [
        "#payasos = 112gs\n",
        "#muñecas= 75\n",
        "#calcular peso e importe del flete, cada kilo $1000\n",
        "\n",
        "CPay=int(input(\"Ingrese la cantidad de payasos vendidos: \"))\n",
        "CMuñeca=int(input(\"Ingrese la cantidad de muñecas vendidas \"))\n",
        "pesoKilo=(112*CPay+75*CMuñeca)/1000\n",
        "costo=(pesoKilo*1000)\n",
        "print(f\"El peso total del paquete a enviar es: \", pesoKilo)\n",
        "print(f\"El costo del envío es: \", costo)"
      ],
      "metadata": {
        "colab": {
          "base_uri": "https://localhost:8080/"
        },
        "id": "l32g9B6S-pH3",
        "outputId": "e63f9b87-a9ab-4edc-ca89-e7c0205755ca"
      },
      "execution_count": null,
      "outputs": [
        {
          "output_type": "stream",
          "name": "stdout",
          "text": [
            "Ingrese la cantidad de payasos vendidos: 10\n",
            "Ingrese la cantidad de muñecas vendidas 10\n",
            "El peso total del paquete a enviar es:  1.87\n",
            "El costo del envío es:  1870.0\n"
          ]
        }
      ]
    },
    {
      "cell_type": "code",
      "source": [],
      "metadata": {
        "id": "fxWiCvUH4EeU"
      },
      "execution_count": null,
      "outputs": []
    },
    {
      "cell_type": "code",
      "source": [
        "CPay=int(input(\"Ingrese la cantidad de payasos vendidos: \"))\n",
        "CMuñeca=int(input(\"Ingrese la cantidad de muñecas vendidas \"))\n",
        "pesoTotal=112*CPay+75*CMuñeca\n",
        "PesoKg=pesoTotal//1000\n",
        "if  pesoTotal % 1000  !=0:\n",
        "  PesoKg+=1\n",
        "costo=(PesoKg*1000)\n",
        "print(f\"El peso total del paquete es: \", pesoTotal)\n",
        "print(f\"El peso total del paquete en Kg es: \", PesoKg)\n",
        "print(f\"El costo del envío es: \", costo)"
      ],
      "metadata": {
        "colab": {
          "base_uri": "https://localhost:8080/"
        },
        "outputId": "d14cef52-193c-4f3c-d343-a4c6785a6eaa",
        "id": "7qmKFFKM4I4-"
      },
      "execution_count": null,
      "outputs": [
        {
          "output_type": "stream",
          "name": "stdout",
          "text": [
            "Ingrese la cantidad de payasos vendidos: 20\n",
            "Ingrese la cantidad de muñecas vendidas 10\n",
            "El peso total del paquete es:  2990\n",
            "El peso total del paquete en Kg es:  3\n",
            "El costo del envío es:  3000\n"
          ]
        }
      ]
    },
    {
      "cell_type": "markdown",
      "source": [
        "Ejercicio 4:\n",
        "Una panadería vende tiras de pan a $45 cada una. El pan que no es el día tiene un\n",
        "descuento del 60%. Escribir un programa que solicite el ingreso del número de tiras\n",
        "vendidas que no son del día. Después el programa debe mostrar el precio habitual de\n",
        "una tira de pan, el descuento que se le hace por no ser fresca y el costo final total."
      ],
      "metadata": {
        "id": "by7AcbEOGaA8"
      }
    },
    {
      "cell_type": "code",
      "source": [
        "#Tira=$45\n",
        "#descuento=60%\n",
        "#solicitar nro tiras vendidas que no son del dia,Calcular y mostrar el costo total final\"\n",
        "PrecioTira=45\n",
        "CantTiras=int(input(\"Ingrese la cantidad de tiras vendidas que no son del día: \"))\n",
        "TotSdec=CantTiras*PrecioTira\n",
        "desc=TotSdec*0.60\n",
        "Totalfinal=TotSdec-desc\n",
        "print(f\"Precio de la tira: ${PrecioTira}\")\n",
        "print(f\"Descuento realizado: ${desc}\")\n",
        "print(f\"El costo final total es: ${Totalfinal}\")"
      ],
      "metadata": {
        "id": "NBwQh8RyGiaE",
        "colab": {
          "base_uri": "https://localhost:8080/"
        },
        "outputId": "0a16e321-d339-4a85-867b-94aaa2188f80"
      },
      "execution_count": 14,
      "outputs": [
        {
          "output_type": "stream",
          "name": "stdout",
          "text": [
            "Ingrese la cantidad de tiras vendidas que no son del día: 10\n",
            "Precio de la tira: $45\n",
            "Descuento realizado: $270.0\n",
            "El costo final total es: $180.0\n"
          ]
        }
      ]
    },
    {
      "cell_type": "markdown",
      "source": [
        "Ejercicio 5:\n",
        "En la sala de juegos Powerland lanzaron una nueva promoción. Con la compra de una\n",
        "tarjeta, te acreditan extra el 50% de tu primer carga.\n",
        "Dado el precio de la tarjeta y el monto de la primera carga a efectuar, indicar el monto\n",
        "a pagar por un cliente que adquiera una nueva tarjeta y el saldo de la tarjeta."
      ],
      "metadata": {
        "id": "q1KgzjDAaxCH"
      }
    },
    {
      "cell_type": "code",
      "source": [
        "PrecioTarj=float(input(\"Ingrese el precio de la tarjeta: $\"))\n",
        "MontoPriCarga=float(input(\"Ingrese el monto de la primera carga: $\"))\n",
        "MontoTotal=PrecioTarj+MontoPriCarga\n",
        "SaldoTar=MontoPriCarga+(MontoPriCarga*0.5)\n",
        "print(f\"El cliente debe abonar: ${MontoTotal:.2f}\")\n",
        "print(f\"El saldo de la tarjeta es: ${SaldoTar:.2f}\")"
      ],
      "metadata": {
        "colab": {
          "base_uri": "https://localhost:8080/"
        },
        "id": "1lvl5T-pa2rS",
        "outputId": "1e459cb5-8aab-41ef-c5c0-f4f38a6c93c6"
      },
      "execution_count": 16,
      "outputs": [
        {
          "output_type": "stream",
          "name": "stdout",
          "text": [
            "Ingrese el precio de la tarjeta: $45\n",
            "Ingrese el monto de la primera carga: $2500\n",
            "El cliente debe abonar: $2545.00\n",
            "El saldo de la tarjeta es: $3750.00\n"
          ]
        }
      ]
    },
    {
      "cell_type": "markdown",
      "source": [
        "Ejercicio 6:\n",
        "Asignar un valor numérico a una variable y una cadena de texto a otras dos variables.\n",
        "Muestre los datos de manera individual, luego en un orden distinto al anterior y\n",
        "finalmente concatenadas.\n",
        "Ejemplo: X = 5, M1 = “tengo”, M2 = “años”\n",
        "Salidas: “tengo 5 años” - “años tengo 5” - “tengo5años” (concatenando)\n"
      ],
      "metadata": {
        "id": "YoIk1VJldmp-"
      }
    },
    {
      "cell_type": "code",
      "source": [
        "Telefono=3875163110\n",
        "cad1=\"Mi\"\n",
        "cad2=\"celular es\"\n",
        "print(Telefono)\n",
        "print(cad1)\n",
        "print(cad2)\n",
        "print(f\"{cad1} {cad2} {Telefono}\")\n",
        "print(cad1+' '+cad2+' '+ str(Telefono))\n",
        "print(str(Telefono)+' '+cad1+' '+cad2)"
      ],
      "metadata": {
        "colab": {
          "base_uri": "https://localhost:8080/"
        },
        "id": "M53gQtx1doEo",
        "outputId": "f7d677fe-f93f-406c-c11e-924b37f37c1d"
      },
      "execution_count": 27,
      "outputs": [
        {
          "output_type": "stream",
          "name": "stdout",
          "text": [
            "3875163110\n",
            "Mi\n",
            "celular es\n",
            "Mi celular es 3875163110\n",
            "Mi celular es 3875163110\n",
            "3875163110 Mi celular es\n"
          ]
        }
      ]
    },
    {
      "cell_type": "markdown",
      "source": [
        "Ejercicio 7:\n",
        "Mostrar las siguientes frases usando f-string\n",
        "“El número pi es 3.1415”\n",
        "“El número pi es 3.14”\n",
        "Se debe definir la siguiente variable para armar las frases: pi = 3.14159265359"
      ],
      "metadata": {
        "id": "-Ozt8dQSiGu0"
      }
    },
    {
      "cell_type": "code",
      "source": [
        "pi=3.14159265359\n",
        "print(f\"El número pi es {pi}\")\n",
        "print(f\"El número pi es {pi:.2f}\")"
      ],
      "metadata": {
        "colab": {
          "base_uri": "https://localhost:8080/"
        },
        "id": "1WdsjVrYiMOj",
        "outputId": "aacf855e-ddd2-47d4-fb25-165b5a195ffe"
      },
      "execution_count": 28,
      "outputs": [
        {
          "output_type": "stream",
          "name": "stdout",
          "text": [
            "El número pi es 3.14159265359\n",
            "El número pi es 3.14\n"
          ]
        }
      ]
    },
    {
      "cell_type": "markdown",
      "source": [
        "Ejercicio 8:\n",
        "Realizar un programa donde se ingresan el nombre y la cantidad a comprar de tres\n",
        "productos. Además, se debe cargar el precio unitario de cada uno. Luego, se creará\n",
        "una vista como en la imagen que sigue donde se calculará cada subtotal. Finalmente,\n",
        "se sumará el importe de los 3 productos para mostrar el total a pagar.\n",
        "Nota: Para el primer producto, ingrese una cantidad a comprar mayor a 1"
      ],
      "metadata": {
        "id": "2PT-8eb7LNoj"
      }
    },
    {
      "cell_type": "code",
      "source": [
        "#Datos a ingresar: Nombre, cantidad de tres productos, precio\n",
        "#Calcular el subtotal y el total a pagar\n",
        "#mostrar la factura\n",
        "#primer producto cantidad mayor a 1\n",
        "\n",
        "Total=0\n",
        "CantItems=3 #se ingresan tres productos por factura\n",
        "nom= input(\"Ingrese el nombre y apellido del cliente: \")\n",
        "Fecha=input(\"Ingrese la fecha de venta:\")\n",
        "print(\"============================================================\")\n",
        "print(f\"{'Factura de venta': ^15}\")\n",
        "print(\"============================================================\")\n",
        "print(f\"Nombre del cliente: {nom}\")\n",
        "print(f\"Fecha de venta: {Fecha}\")\n",
        "print(\"============================================================\")\n",
        "print(\"|    |    |    |    Detalle de venta                        \")\n",
        "print(\"============================================================\")\n",
        "print()\n",
        "print()\n",
        "print(f\"{'Producto': <20} {'Precio':^15} {'Subtotal': >20}\")\n",
        "\n",
        "\n",
        "for i in range (1,CantItems+1):\n",
        "  NomProd=(input(\"Ingrese el nombre del producto: \"))\n",
        "  Cant=int(input(\"Ingrese la cantidad del producto a facturar: \"))\n",
        "  if Cant < 1:\n",
        "    print(\"La cantidad ingresada debe ser mayor a 1\")\n",
        "    Cant=int(input(\"Ingrese la cantidad del producto a facturar: \"))\n",
        "  Precio=float(input(\"Ingrese el precio unitario del producto:\"))\n",
        "  subtotal=Cant*Precio\n",
        "  Total=Total+subtotal\n",
        "  print(f\"{NomProd: <20} {Precio:^15} {subtotal: >20}\")\n",
        "print(\"============================================================\")\n",
        "print(f\"|    |    |    |    Total a pagar = ${Total}                     \")\n",
        "print(\"============================================================\") \n",
        "\n",
        "\n"
      ],
      "metadata": {
        "id": "9WrD5MTQLM1Y"
      },
      "execution_count": null,
      "outputs": []
    },
    {
      "cell_type": "code",
      "source": [
        "#Datos a ingresar: Nombre, cantidad de tres productos, precio\n",
        "#Calcular el subtotal y el total a pagar\n",
        "#mostrar la factura\n",
        "#primer producto cantidad mayor a 1\n",
        "\n",
        "Total=0\n",
        "CantItems=3 #se ingresan tres productos por factura\n",
        "nom= input(\"Ingrese el nombre y apellido del cliente: \")\n",
        "Fecha=input(\"Ingrese la fecha de venta:\")\n",
        "for i in range (1,CantItems+1):\n",
        "  NomProd=(input(\"Ingrese el nombre del producto: \"))\n",
        "  Cant(i)=int(input(\"Ingrese la cantidad del producto a facturar: \"))\n",
        "  if Cant < 1:\n",
        "    print(\"La cantidad ingresada debe ser mayor a 1\")\n",
        "    Cant=int(input(\"Ingrese la cantidad del producto a facturar: \"))\n",
        "  Precio(i)=float(input(\"Ingrese el precio unitario del producto:\"))\n",
        "  subtotal(i)=Cant*Precio\n",
        "  Total=Total+subtotal\n",
        "print(\"============================================================\")\n",
        "print(f\"{'Factura de venta': ^15}\")\n",
        "print(\"============================================================\")\n",
        "print(f\"Nombre del cliente: {nom}\")\n",
        "print(f\"Fecha de venta: {Fecha}\")\n",
        "print(\"============================================================\")\n",
        "print(\"|    |    |    |    Detalle de venta                        \")\n",
        "print(\"============================================================\")\n",
        "print()\n",
        "print()\n",
        "print(f\"{'Producto': <20} {'Precio':^15} {'Subtotal': >20}\")\n",
        "for i in range (1,CantItems+1):\n",
        "  NomProd(i)=(input(\"Ingrese el nombre del producto: \"))\n",
        "  Cant(i)=int(input(\"Ingrese la cantidad del producto a facturar: \"))\n",
        "  if Cant < 1:\n",
        "    print(\"La cantidad ingresada debe ser mayor a 1\")\n",
        "    Cant=int(input(\"Ingrese la cantidad del producto a facturar: \"))\n",
        "  Precio(i)=float(input(\"Ingrese el precio unitario del producto:\"))\n",
        "  subtotal(i)=Cant*Precio\n",
        "  Total=Total+subtotal\n",
        "  print(f\"{NomProd: <20} {Precio:^15} {subtotal: >20}\")\n",
        "print(\"============================================================\")\n",
        "print(f\"|    |    |    |    Total a pagar = ${Total}                     \")\n",
        "print(\"============================================================\") "
      ],
      "metadata": {
        "colab": {
          "base_uri": "https://localhost:8080/",
          "height": 502
        },
        "id": "rEdtdo4MwL9m",
        "outputId": "79eede20-f1b6-4d94-b986-8653700907fa"
      },
      "execution_count": null,
      "outputs": [
        {
          "name": "stdout",
          "output_type": "stream",
          "text": [
            "Ingrese el nombre y apellido del cliente: Juanadsfas\n",
            "Ingrese la fecha de venta:fjdjfdskjfksdajfkajdkfj\n",
            "Ingrese el nombre del producto: dfkfdfd\n",
            "Ingrese la cantidad del producto a facturar: 4\n",
            "Ingrese el precio unitario del producto:123\n",
            "Ingrese el nombre del producto: fdsfasd\n"
          ]
        },
        {
          "output_type": "error",
          "ename": "KeyboardInterrupt",
          "evalue": "ignored",
          "traceback": [
            "\u001b[0;31m---------------------------------------------------------------------------\u001b[0m",
            "\u001b[0;31mKeyboardInterrupt\u001b[0m                         Traceback (most recent call last)",
            "\u001b[0;32m<ipython-input-31-ba11baf2a716>\u001b[0m in \u001b[0;36m<cell line: 10>\u001b[0;34m()\u001b[0m\n\u001b[1;32m     10\u001b[0m \u001b[0;32mfor\u001b[0m \u001b[0mi\u001b[0m \u001b[0;32min\u001b[0m \u001b[0mrange\u001b[0m \u001b[0;34m(\u001b[0m\u001b[0;36m1\u001b[0m\u001b[0;34m,\u001b[0m\u001b[0mCantItems\u001b[0m\u001b[0;34m+\u001b[0m\u001b[0;36m1\u001b[0m\u001b[0;34m)\u001b[0m\u001b[0;34m:\u001b[0m\u001b[0;34m\u001b[0m\u001b[0;34m\u001b[0m\u001b[0m\n\u001b[1;32m     11\u001b[0m   \u001b[0mNomProd\u001b[0m\u001b[0;34m=\u001b[0m\u001b[0;34m(\u001b[0m\u001b[0minput\u001b[0m\u001b[0;34m(\u001b[0m\u001b[0;34m\"Ingrese el nombre del producto: \"\u001b[0m\u001b[0;34m)\u001b[0m\u001b[0;34m)\u001b[0m\u001b[0;34m\u001b[0m\u001b[0;34m\u001b[0m\u001b[0m\n\u001b[0;32m---> 12\u001b[0;31m   \u001b[0mCant\u001b[0m\u001b[0;34m=\u001b[0m\u001b[0mint\u001b[0m\u001b[0;34m(\u001b[0m\u001b[0minput\u001b[0m\u001b[0;34m(\u001b[0m\u001b[0;34m\"Ingrese la cantidad del producto a facturar: \"\u001b[0m\u001b[0;34m)\u001b[0m\u001b[0;34m)\u001b[0m\u001b[0;34m\u001b[0m\u001b[0;34m\u001b[0m\u001b[0m\n\u001b[0m\u001b[1;32m     13\u001b[0m   \u001b[0;32mif\u001b[0m \u001b[0mCant\u001b[0m \u001b[0;34m<\u001b[0m \u001b[0;36m1\u001b[0m\u001b[0;34m:\u001b[0m\u001b[0;34m\u001b[0m\u001b[0;34m\u001b[0m\u001b[0m\n\u001b[1;32m     14\u001b[0m     \u001b[0mprint\u001b[0m\u001b[0;34m(\u001b[0m\u001b[0;34m\"La cantidad ingresada debe ser mayor a 1\"\u001b[0m\u001b[0;34m)\u001b[0m\u001b[0;34m\u001b[0m\u001b[0;34m\u001b[0m\u001b[0m\n",
            "\u001b[0;32m/usr/local/lib/python3.10/dist-packages/ipykernel/kernelbase.py\u001b[0m in \u001b[0;36mraw_input\u001b[0;34m(self, prompt)\u001b[0m\n\u001b[1;32m    849\u001b[0m                 \u001b[0;34m\"raw_input was called, but this frontend does not support input requests.\"\u001b[0m\u001b[0;34m\u001b[0m\u001b[0;34m\u001b[0m\u001b[0m\n\u001b[1;32m    850\u001b[0m             )\n\u001b[0;32m--> 851\u001b[0;31m         return self._input_request(str(prompt),\n\u001b[0m\u001b[1;32m    852\u001b[0m             \u001b[0mself\u001b[0m\u001b[0;34m.\u001b[0m\u001b[0m_parent_ident\u001b[0m\u001b[0;34m,\u001b[0m\u001b[0;34m\u001b[0m\u001b[0;34m\u001b[0m\u001b[0m\n\u001b[1;32m    853\u001b[0m             \u001b[0mself\u001b[0m\u001b[0;34m.\u001b[0m\u001b[0m_parent_header\u001b[0m\u001b[0;34m,\u001b[0m\u001b[0;34m\u001b[0m\u001b[0;34m\u001b[0m\u001b[0m\n",
            "\u001b[0;32m/usr/local/lib/python3.10/dist-packages/ipykernel/kernelbase.py\u001b[0m in \u001b[0;36m_input_request\u001b[0;34m(self, prompt, ident, parent, password)\u001b[0m\n\u001b[1;32m    893\u001b[0m             \u001b[0;32mexcept\u001b[0m \u001b[0mKeyboardInterrupt\u001b[0m\u001b[0;34m:\u001b[0m\u001b[0;34m\u001b[0m\u001b[0;34m\u001b[0m\u001b[0m\n\u001b[1;32m    894\u001b[0m                 \u001b[0;31m# re-raise KeyboardInterrupt, to truncate traceback\u001b[0m\u001b[0;34m\u001b[0m\u001b[0;34m\u001b[0m\u001b[0m\n\u001b[0;32m--> 895\u001b[0;31m                 \u001b[0;32mraise\u001b[0m \u001b[0mKeyboardInterrupt\u001b[0m\u001b[0;34m(\u001b[0m\u001b[0;34m\"Interrupted by user\"\u001b[0m\u001b[0;34m)\u001b[0m \u001b[0;32mfrom\u001b[0m \u001b[0;32mNone\u001b[0m\u001b[0;34m\u001b[0m\u001b[0;34m\u001b[0m\u001b[0m\n\u001b[0m\u001b[1;32m    896\u001b[0m             \u001b[0;32mexcept\u001b[0m \u001b[0mException\u001b[0m \u001b[0;32mas\u001b[0m \u001b[0me\u001b[0m\u001b[0;34m:\u001b[0m\u001b[0;34m\u001b[0m\u001b[0;34m\u001b[0m\u001b[0m\n\u001b[1;32m    897\u001b[0m                 \u001b[0mself\u001b[0m\u001b[0;34m.\u001b[0m\u001b[0mlog\u001b[0m\u001b[0;34m.\u001b[0m\u001b[0mwarning\u001b[0m\u001b[0;34m(\u001b[0m\u001b[0;34m\"Invalid Message:\"\u001b[0m\u001b[0;34m,\u001b[0m \u001b[0mexc_info\u001b[0m\u001b[0;34m=\u001b[0m\u001b[0;32mTrue\u001b[0m\u001b[0;34m)\u001b[0m\u001b[0;34m\u001b[0m\u001b[0;34m\u001b[0m\u001b[0m\n",
            "\u001b[0;31mKeyboardInterrupt\u001b[0m: Interrupted by user"
          ]
        }
      ]
    }
  ]
}