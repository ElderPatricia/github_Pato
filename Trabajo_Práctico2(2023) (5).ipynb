{
  "nbformat": 4,
  "nbformat_minor": 0,
  "metadata": {
    "colab": {
      "provenance": []
    },
    "kernelspec": {
      "name": "python3",
      "display_name": "Python 3"
    },
    "language_info": {
      "name": "python"
    }
  },
  "cells": [
    {
      "cell_type": "markdown",
      "source": [
        "TRABAJO PRÁCTICO 1.2\n",
        "\n",
        "Alternativa. Ciclos\n",
        "\n",
        "Ejercicio 1:\n",
        "Ingresar dos números, devolver el mayor de ellos o indicar si son iguales.\n"
      ],
      "metadata": {
        "id": "9xY9Fw_10jjJ"
      }
    },
    {
      "cell_type": "code",
      "source": [
        "num1=int(input(\"Ingrese un número: \"))\n",
        "num2=int(input(\"Ingrese otro número: \"))\n",
        "if num1==num2:\n",
        "  print(\"Los números son iguales\")\n",
        "else:\n",
        "  if num1>num2:\n",
        "    print(f\"El mayor es {num1}\")\n",
        "  else:\n",
        "    print(f\"El mayor es {num2}\")"
      ],
      "metadata": {
        "colab": {
          "base_uri": "https://localhost:8080/"
        },
        "id": "Mq25MHOb0rWh",
        "outputId": "c17c17a2-00d6-489e-f55f-b2614fa5368b"
      },
      "execution_count": null,
      "outputs": [
        {
          "output_type": "stream",
          "name": "stdout",
          "text": [
            "Ingrese un número: 23\n",
            "Ingrese otro número: 45\n",
            "El mayor es 45\n"
          ]
        }
      ]
    },
    {
      "cell_type": "markdown",
      "source": [
        "Ejercicio 2:\n",
        "Los empleados de una empresa cobran en una fecha determinada según la terminación\n",
        "de su número de DNI. Solicitar al usuario su número de DNI e indicar qué día cobra su\n",
        "sueldo de acuerdo a la siguiente descripción:\n",
        "- DNI terminado en 0-2-4-6-8 cobra el Jueves 04 de mayo.\n",
        "- DNI terminado en 1-3-5-7-9 cobra el Viernes 05 de mayo."
      ],
      "metadata": {
        "id": "KlKgRDJa53Yu"
      }
    },
    {
      "cell_type": "code",
      "source": [
        "dni=int(input(\"Ingrese su nro de documento: \"))\n",
        "if dni%2==0: \n",
        "  print('Ud cobra el Jueves 4 de mayo')\n",
        "else:\n",
        "  print('Ud cobra el Viernes 5 de mayo')    "
      ],
      "metadata": {
        "colab": {
          "base_uri": "https://localhost:8080/"
        },
        "id": "uzgx048y5_nz",
        "outputId": "fa0e4821-bb02-4ce4-f3b9-15f2f78ce25a"
      },
      "execution_count": null,
      "outputs": [
        {
          "output_type": "stream",
          "name": "stdout",
          "text": [
            "Ingrese su nro de documento: 458263145\n",
            "Ud cobra el Viernes 5 de mayo\n"
          ]
        }
      ]
    },
    {
      "cell_type": "markdown",
      "source": [
        "Ejercicio 3:\n",
        "Un hotel cuenta con 3 tipos de habitaciones: “Oro”, “Platino”, “Bronce” y cobra por\n",
        "noche $7000, $6000 y $5000 respectivamente. Si un huésped supera las 3 noches de\n",
        "alojamiento se le realiza un descuento del 10% en el total del precio a pagar. Dada la\n",
        "cantidad de noches que se aloja un huésped y el tipo de habitación elegida, calcule y\n",
        "muestre el monto que debe pagar el huésped."
      ],
      "metadata": {
        "id": "G9ahK-GPcZq0"
      }
    },
    {
      "cell_type": "code",
      "source": [
        "PrecioOro=7000\n",
        "PrecioPlatino=6000\n",
        "PrecioBronce=5000\n",
        "Tipo=input(\"Ingrese el tipo de habitación elegida (Oro/Platino/Bronce): \")\n",
        "Cant=int(input(\"Ingrese la cantidad de días de alojamiento: \"))\n",
        "if Tipo==\"Oro\":\n",
        "  Total=Cant*PrecioOro\n",
        "elif Tipo==\"Platino\":\n",
        "  Total=Cant*PrecioPlatino\n",
        "elif Tipo==\"Bronce\":\n",
        "  Total=Cant*PrecioBronce\n",
        "if Cant>=3:\n",
        "  Totalfinal=Total-(Total*0.1)\n",
        "  print (f\"El monto a pagar es: ${Totalfinal}\")        \n",
        "else:\n",
        "  print (f\"El monto a pagar es: ${Total}\")  "
      ],
      "metadata": {
        "colab": {
          "base_uri": "https://localhost:8080/"
        },
        "id": "1AO8bSMccdSS",
        "outputId": "bbfb15f0-6095-42bc-e475-4d19e1cf5b20"
      },
      "execution_count": null,
      "outputs": [
        {
          "output_type": "stream",
          "name": "stdout",
          "text": [
            "Ingrese el tipo de habitación elegida (Oro/Platino/Bronce): Bronce\n",
            "Ingrese la cantidad de días de alojamiento: 10\n",
            "El monto a pagar es: $45000.0\n"
          ]
        }
      ]
    },
    {
      "cell_type": "markdown",
      "source": [
        "Ejercicio 4:\n",
        "Un plan de telefonía consiste en cobrar una tarifa base mensual que incluye minutos\n",
        "gratuitos de llamadas locales más el costo por minuto de las llamadas excedentes.\n",
        "Solicite al usuario la tarifa plana, la cantidad de minutos gratuitos que se ofrecen y la\n",
        "cantidad total de segundos de llamadas que realizó una persona, luego calcule y\n",
        "muestre el monto de la factura a pagar.\n",
        "Nota: El costo por minuto excedente de una llamada es de $100.\n"
      ],
      "metadata": {
        "id": "V2-8uqmchMxq"
      }
    },
    {
      "cell_type": "code",
      "source": [
        "Tarifa=float(input(\"Ingrese el monto correspondiente a la tarifa plana: $\"))\n",
        "MinLibres=int(input(\"Ingrese la cantidad de minutos libres que incluye la tarifa plana: \"))\n",
        "CanTotalSegundos=int(input(\"Ingrese la cantidad total de segundos de llamadas realizadas por el abonado: \"))\n",
        "MinutoExcedente=100\n",
        "CtoExcedente=0\n",
        "CantTotalMinutos=CanTotalSegundos//60\n",
        "if CanTotalSegundos%60 !=0:\n",
        "  CantTotalMinutos+=1\n",
        "if CantTotalMinutos>MinLibres:\n",
        "  Excedente=CantTotalMinutos-MinLibres\n",
        "  CtoExcedente=Excedente*100\n",
        "TotalFactura=Tarifa+CtoExcedente  \n",
        "print(f\"El monto total de la factura es:${TotalFactura}\")"
      ],
      "metadata": {
        "colab": {
          "base_uri": "https://localhost:8080/"
        },
        "id": "aGl2oEmT7THR",
        "outputId": "3063d91d-ff3f-4b77-c047-c733067a6b1e"
      },
      "execution_count": null,
      "outputs": [
        {
          "output_type": "stream",
          "name": "stdout",
          "text": [
            "Ingrese el monto correspondiente a la tarifa plana: $1000\n",
            "Ingrese la cantidad de minutos libres que incluye la tarifa plana: 50\n",
            "Ingrese la cantidad total de segundos de llamadas realizadas por el abonado: 3500\n",
            "El monto total de la factura es:$1900.0\n"
          ]
        }
      ]
    },
    {
      "cell_type": "markdown",
      "source": [
        "Ejercicio 5:\n",
        "Un hotel cuenta con 3 tipos de habitaciones: “Oro”, “Platino”, “Bronce” y cobra por\n",
        "noche $7000, $6000 y $5000 respectivamente. Si un huésped supera las 3 noches de\n",
        "alojamiento se le realiza un descuento del 10% en el total del precio a pagar.\n",
        "Simule todo un día de hospedaje, suponiendo que ingresan N huéspedes con una\n",
        "reserva cada uno. Cada huésped le indica la cantidad de noches que se aloja y el tipo\n",
        "de habitación elegida. Calcule y muestre la siguiente información:\n",
        "- Monto a pagar por cada huésped.\n",
        "- Cantidad de huéspedes que eligieron habitación “Oro”.\n",
        "- Cantidad de huéspedes que se alojaron sólo 1 noche.\n",
        "- Cantidad de huéspedes a los que se hizo descuento.\n",
        "- Monto total acumulado durante todo el día de hospedaje.\n"
      ],
      "metadata": {
        "id": "V7uN4GCUDaL1"
      }
    },
    {
      "cell_type": "code",
      "source": [
        "N=int(input(\"Ingrese la cantidad de huespedes a ingresar: \"))\n",
        "PrecioOro=7000\n",
        "PrecioPlatino=6000\n",
        "PrecioBronce=5000\n",
        "while CantHuesped <= N:\n",
        "  Total=0\n",
        "  CantHuesped=1\n",
        "  CantUna=0\n",
        "  CantOro=0\n",
        "  Cantdes=0\n",
        "  Totaldia=0\n",
        "  Totalfinal=0\n",
        "  Tipo=int(input(\"Ingrese el tipo de habitación elegida (1. Oro/2. Platino/3. Bronce): \"))\n",
        "  CantNoches=int(input(\"Ingrese la cantidad de días de alojamiento: \"))\n",
        "  if Tipo==1:\n",
        "    Total= CantNoches * PrecioOro\n",
        "    CantOro+=1\n",
        "  elif Tipo==2:\n",
        "    Total=CantNoches*PrecioPlatino\n",
        "  else: \n",
        "    Total=CantNoches*PrecioBronce\n",
        "  if CantNoches==1:\n",
        "    CantUna+=1\n",
        "  else:\n",
        "    if CantNoches>=3:\n",
        "      Totalfinal=Total-(Total*0.1)\n",
        "      Cantdes+=1\n",
        "  \n",
        "  \n",
        "  Totalfinal=Total\n",
        "  print (f\"El monto a pagar por el Huesped {CantHuesped} es: ${Totalfinal}\")\n",
        "  CantHuesped+=1  \n",
        "Totaldia=Totaldia+Totalfinal  \n",
        "print(f\"Cantidad de huespedes que eligieron oro: {CantOro}\")\n",
        "print(f\"Cantidad de huespedes que se alojaron una sola noche: {CantUna}\")\n",
        "print(f\"Cantidad de huespedes con descuento: {Cantdes}\")\n",
        "print(f\"Monto total acumulado del día: {Totaldia}\")"
      ],
      "metadata": {
        "id": "MgYqVMULDcHo",
        "colab": {
          "base_uri": "https://localhost:8080/"
        },
        "outputId": "f43f1e52-e695-4262-a34f-bc4fd50facf6"
      },
      "execution_count": null,
      "outputs": [
        {
          "output_type": "stream",
          "name": "stdout",
          "text": [
            "Ingrese la cantidad de huespedes a ingresar: 3\n",
            "Ingrese el tipo de habitación elegida (1. Oro/2. Platino/3. Bronce): 2\n",
            "Ingrese la cantidad de días de alojamiento: 3\n",
            "El monto a pagar por el Huesped 1 es: $18000\n"
          ]
        }
      ]
    },
    {
      "cell_type": "markdown",
      "source": [
        "Ejercicio 6:\n",
        "Realizar un programa que determine el factorial(!) de un número ingresado. Por ejemplo si\n",
        "ingresó 4 su factorial es 1×2×3×4=24."
      ],
      "metadata": {
        "id": "VAYYQ88BanCE"
      }
    },
    {
      "cell_type": "code",
      "source": [
        "Num=int(input('Ingrese un número para determinar su factorial: '))\n",
        "Fact=1\n",
        "for i in range(1, Num+1):\n",
        "  Fact=Fact*i \n",
        "print()  \n",
        "print ('El factorial de '+ str(Num)+'! = '+str(Fact))"
      ],
      "metadata": {
        "colab": {
          "base_uri": "https://localhost:8080/"
        },
        "id": "mS54DIviQlvm",
        "outputId": "5681b035-7d9c-4d82-8efe-75b3e1251b9c"
      },
      "execution_count": null,
      "outputs": [
        {
          "output_type": "stream",
          "name": "stdout",
          "text": [
            "Ingrese un número para determinar su factorial: 10\n",
            "\n",
            "El factorial de 10! = 3628800\n"
          ]
        }
      ]
    },
    {
      "cell_type": "markdown",
      "source": [
        "Ejercicio 7:\n",
        "El número e de valor aproximado 2.71828 puede calcularse con una expresión algebráica,\n",
        "solicite al usuario un valor tope para n y calcule:"
      ],
      "metadata": {
        "id": "JfVpsn9obGIS"
      }
    },
    {
      "cell_type": "code",
      "source": [
        "n=int(input(\"Ingrese el valor tope para n: \"))\n",
        "for k in range(n+1):\n",
        "  Fact=1\n",
        "  for i in range(1, Num+1):\n",
        "    Fact=Fact*i \n",
        "    e=1/Fact\n",
        "print (e)   "
      ],
      "metadata": {
        "colab": {
          "base_uri": "https://localhost:8080/"
        },
        "id": "qqoiN1-XbHv_",
        "outputId": "adb6058b-ed81-4858-fe08-958caa007255"
      },
      "execution_count": null,
      "outputs": [
        {
          "output_type": "stream",
          "name": "stdout",
          "text": [
            "Ingrese el valor tope para n: 5\n",
            "2.755731922398589e-07\n"
          ]
        }
      ]
    },
    {
      "cell_type": "markdown",
      "source": [
        "Ejercicio 8:\n",
        "Dada una lista de números reales no nulos mostrar cuántos números ingresó el usuario\n",
        "y determinar el promedio de los positivos. Detener el ingreso cuando el usuario ingrese\n",
        "un 0.\n"
      ],
      "metadata": {
        "id": "tcZ44aQibb4E"
      }
    },
    {
      "cell_type": "code",
      "source": [
        "cantNum=0\n",
        "Cantpos=0\n",
        "SumPositivos=0\n",
        "Num=int(input(\"Ingrese un número real (para finalizar ingrese 0): \"))\n",
        "while Num!=0:\n",
        "  cantNum+=1\n",
        "  if Num>0:\n",
        "    Cantpos+=1\n",
        "    SumPositivos=SumPositivos+Num\n",
        "  Num=int(input(\"Ingrese un número real (para finalizar ingrese 0): \"))\n",
        "PromPos= SumPositivos/ Cantpos\n",
        "print(f\"Números ingresados: {cantNum}\")\n",
        "print(f\"El promedio de números positivos: {PromPos}\")\n",
        "\n"
      ],
      "metadata": {
        "colab": {
          "base_uri": "https://localhost:8080/"
        },
        "id": "QAuruHK8beH0",
        "outputId": "48072bca-42af-4684-a2c4-7352672fa4bf"
      },
      "execution_count": null,
      "outputs": [
        {
          "output_type": "stream",
          "name": "stdout",
          "text": [
            "Ingrese un número real (para finalizar ingrese 0): 12\n",
            "Ingrese un número real (para finalizar ingrese 0): 2\n",
            "Ingrese un número real (para finalizar ingrese 0): 8\n",
            "Ingrese un número real (para finalizar ingrese 0): -8\n",
            "Ingrese un número real (para finalizar ingrese 0): -3\n",
            "Ingrese un número real (para finalizar ingrese 0): 0\n",
            "Números ingresados: 5\n",
            "El promedio de números positivos: 7.333333333333333\n"
          ]
        }
      ]
    },
    {
      "cell_type": "code",
      "source": [],
      "metadata": {
        "id": "Cdm6tQn21Cf8"
      },
      "execution_count": null,
      "outputs": []
    },
    {
      "cell_type": "markdown",
      "source": [
        "Ejercicio 9:\n",
        "Realizar un programa que permita ingresar repetidamente números, determinar\n",
        "cuántos números de 2 cifras ingresaron, la cantidad de números de 3 cifras y la\n",
        "cantidad de números de 4 cifras. El ingreso finaliza cuando la cantidad de números de\n",
        "2 cifras es igual a la cantidad de números de 4 cifras. Para detener el ciclo no tenga en\n",
        "cuenta el caso inicial de que ambas cantidades sean 0."
      ],
      "metadata": {
        "id": "fnEyWVAibvdN"
      }
    },
    {
      "cell_type": "code",
      "source": [
        "Nro2cifras=0\n",
        "Nro3cifras=0\n",
        "Nro4cifras=0\n",
        "fin=False\n",
        "while fin==False:\n",
        "  Nro=int(input(\"Ingrese un número entero: \"))\n",
        "  cont=0\n",
        "  while Nro > 0:\n",
        "    Nro=Nro //10\n",
        "    cont+=1\n",
        "  if cont==2:\n",
        "    Nro2cifras+=1\n",
        "  elif cont==3:\n",
        "    Nro3cifras+=1\n",
        "  elif cont==4:\n",
        "    Nro4cifras+=1\n",
        "  if  Nro2cifras!=0 and Nro4cifras!=0 and Nro2cifras==Nro4cifras:\n",
        "     fin=True\n",
        "print(f\"La cantidad de números de 2 cifras ingresadas es: {Nro2cifras}\")\n",
        "print(f\"La cantidad de números de 3 cifras ingresadas es: {Nro3cifras}\")\n",
        "print(f\"La cantidad de números de 4 cifras ingresadas es: {Nro4cifras}\")"
      ],
      "metadata": {
        "id": "U_3XZibMbxBz",
        "colab": {
          "base_uri": "https://localhost:8080/"
        },
        "outputId": "7d920aa6-af6f-4e06-f60b-413866cb955e"
      },
      "execution_count": null,
      "outputs": [
        {
          "output_type": "stream",
          "name": "stdout",
          "text": [
            "Ingrese un número entero: 11\n",
            "Ingrese un número entero: 455\n",
            "Ingrese un número entero: 456\n",
            "Ingrese un número entero: 78\n",
            "Ingrese un número entero: 15\n",
            "Ingrese un número entero: 1245\n",
            "Ingrese un número entero: 1\n",
            "Ingrese un número entero: 45787\n",
            "Ingrese un número entero: 1247\n",
            "Ingrese un número entero: 4587\n",
            "La cantidad de números de 2 cifras ingresadas es: 3\n",
            "La cantidad de números de 3 cifras ingresadas es: 2\n",
            "La cantidad de números de 4 cifras ingresadas es: 3\n"
          ]
        }
      ]
    },
    {
      "cell_type": "markdown",
      "source": [
        "Ejercicio 10:\n",
        "Los empleados de una empresa cobran en una fecha determinada según la terminación\n",
        "de su número de DNI de acuerdo a la siguiente descripción:\n",
        "- DNI terminado en 0-2-4-6-8 cobra el Jueves 04 de mayo.\n",
        "- DNI terminado en 1-3-5-7-9 cobra el Viernes 05 de mayo.\n",
        "Diseñe un programa que permita repetidamente el ingreso del nombre y dni de los\n",
        "empleados y muestre un mensaje indicando el nombre y la fecha de cobro de cada\n",
        "uno. El ingreso de datos debe detenerse cuando el usuario lo decida"
      ],
      "metadata": {
        "id": "f-3eyxOwcAWC"
      }
    },
    {
      "cell_type": "code",
      "source": [
        "cont=\"s\"\n",
        "while cont==\"s\":\n",
        "  Nom=input(\"Ingrese nombre y apellido: \")\n",
        "  dni=int(input(\"Ingrese su nro de documento: \"))\n",
        "  if dni%2==0: \n",
        "    print(f\"{Nom} cobra el Jueves 4 de mayo\")\n",
        "  else:\n",
        "    print(f\"{Nom} cobra el Viernes 5 de mayo\")  \n",
        "  cont=input(\"Desea continuar la carga?(s/n): \")\n",
        "print(\"fin\")     "
      ],
      "metadata": {
        "colab": {
          "base_uri": "https://localhost:8080/"
        },
        "id": "g3y_OyGjcB_Y",
        "outputId": "23d0b52f-7040-4c3e-ecd1-b61bcd228ba8"
      },
      "execution_count": null,
      "outputs": [
        {
          "output_type": "stream",
          "name": "stdout",
          "text": [
            "Ingrese nombre y apellido: Juan Perez\n",
            "Ingrese su nro de documento: 12415665\n",
            "Juan Perez cobra el Viernes 5 de mayo\n",
            "Desea continuar la carga?(s/n): s\n",
            "Ingrese nombre y apellido: Mario Lopez\n",
            "Ingrese su nro de documento: 456458\n",
            "Mario Lopez cobra el Jueves 4 de mayo\n",
            "Desea continuar la carga?(s/n): n\n",
            "fin\n"
          ]
        }
      ]
    },
    {
      "cell_type": "markdown",
      "source": [
        "Ejercicio 11:\n",
        "Realizar un programa para validar un número de tarjeta de crédito. Para ello, se\n",
        "presenta el proceso a seguir:\n",
        "1. Se debe ingresar el número de tarjeta de crédito.\n",
        "Ejemplo: 4417 1234 5678 9113 ( siempre serán 16 dígitos, no use espacios)\n",
        "2. Luego, duplicar los números en las posiciones impares, de derecha a izquierda\n",
        "[4] 4 [1] 7 [1] 2 [3] 4 [5] 6 [7] 8 [9] 1 [1] 3\n",
        "Quedando como:\n",
        "[8] 4 [2] 7 [2] 2 [6] 4 [10] 6 [14] 8 [18] 1 [2] 3\n",
        "3. Si un número queda con dos dígitos, sumarlos para transformarlos en uno solo.\n",
        "[8] 4 [2] 7 [2] 2 [6] 4 [1] 6 [5] 8 [9] 1 [2]\n",
        "4. Ahora sumar todos los números\n",
        "5. Si el resultado es divisible por 10, el número de tarjeta es válido, caso\n",
        "contrario, no lo es.\n",
        "8+4+2+7 + 2+2+6+4 + 1+6+5+6 + 1+4+1+8 + 1+1+2+3 = 70\n",
        "70 % 10 = 0\n",
        "Nota: Realizar el algoritmo de manera que el proceso se cumpla aunque no lo siga\n",
        "literalmente. No debe utilizar listas para realizar el ejercicio"
      ],
      "metadata": {
        "id": "Es27wXqNcKsA"
      }
    },
    {
      "cell_type": "code",
      "source": [
        "bandera  = True\n",
        "while bandera == True:\n",
        "  indice=0\n",
        "  suma=0\n",
        "  Total=0\n",
        "  NroTarj=input(\"Ingrese nro de tarjeta de crédito(los 16 dígitos de la tarjeta sin espacios): \")\n",
        "  if len(NroTarj)==16:\n",
        "    NroTarj=int(NroTarj)\n",
        "  while NroTarj > 0:\n",
        "    dig=NroTarj%10\n",
        "    if indice % 2!=0:\n",
        "      Nvodig=dig*2\n",
        "      if Nvodig>9:\n",
        "        suma=0\n",
        "        while Nvodig>0:\n",
        "          subdig= Nvodig%10 \n",
        "          suma=suma+subdig\n",
        "          Nvodig=Nvodig//10\n",
        "        Nvodig=suma\n",
        "      Total=Total+Nvodig\n",
        "    else:\n",
        "      Total=Total+dig  \n",
        "    NroTarj=NroTarj//10\n",
        "    indice+=1\n",
        "  if indice == 16:\n",
        "    bandera = False\n",
        "  else:\n",
        "    print(\"Numero incorrecto intente nuevamente.\")\n",
        "print(f\"la suma total es: {Total}\") \n",
        "if Total%10==0:\n",
        "  print(\"Tarjeta válida\")\n",
        "else:\n",
        "  print(\"Tarjeta inválida\")\n",
        "    "
      ],
      "metadata": {
        "id": "mYSeyGR5cMZC",
        "colab": {
          "base_uri": "https://localhost:8080/"
        },
        "outputId": "e98fd9f4-de52-4a38-a942-b79dbf475ede"
      },
      "execution_count": null,
      "outputs": [
        {
          "output_type": "stream",
          "name": "stdout",
          "text": [
            "Ingrese nro de tarjeta de crédito(los 16 dígitos de la tarjeta sin espacios): 4417123456789113\n",
            "la suma total es: 70\n",
            "Tarjeta válida\n"
          ]
        }
      ]
    }
  ]
}